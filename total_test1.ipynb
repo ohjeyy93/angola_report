{
 "cells": [
  {
   "cell_type": "code",
   "execution_count": 7,
   "id": "8fdf9159-75cc-4064-b2a6-a827d40ad29f",
   "metadata": {},
   "outputs": [
    {
     "name": "stdout",
     "output_type": "stream",
     "text": [
      "3.0\n"
     ]
    }
   ],
   "source": [
    "with open (\"test2.csv\", \"r\") as t1: ###Open the document created from dataframe workflow\n",
    "    count=0\n",
    "    for lines in t1: ##Add number of major, minor, \n",
    "        if \"A437\" in lines and \"individual\" in lines and \"21\" not in lines and \"wildtype\" in lines:\n",
    "            count+=1.0\n",
    "        if \"A437\" in lines and \"pooled\" in lines and \"21\" not in lines and \"wildtype\" in lines:\n",
    "            count+=float(lines.split(\",\")[-2])\n",
    "    print(count)"
   ]
  },
  {
   "cell_type": "code",
   "execution_count": null,
   "id": "256c789e-ad7d-4a46-9c84-85956431a0f2",
   "metadata": {},
   "outputs": [],
   "source": []
  }
 ],
 "metadata": {
  "kernelspec": {
   "display_name": "Python 3 (ipykernel)",
   "language": "python",
   "name": "python3"
  },
  "language_info": {
   "codemirror_mode": {
    "name": "ipython",
    "version": 3
   },
   "file_extension": ".py",
   "mimetype": "text/x-python",
   "name": "python",
   "nbconvert_exporter": "python",
   "pygments_lexer": "ipython3",
   "version": "3.8.10"
  }
 },
 "nbformat": 4,
 "nbformat_minor": 5
}
