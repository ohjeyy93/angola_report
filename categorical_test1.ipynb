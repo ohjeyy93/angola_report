{
 "cells": [
  {
   "cell_type": "code",
   "execution_count": 7,
   "id": "28740545-b9bc-4f04-a37e-919e552a92f9",
   "metadata": {},
   "outputs": [
    {
     "name": "stdout",
     "output_type": "stream",
     "text": [
      "{'Sample': 'exist', '19ANBe00A0009PfFxxx0': 'exist', '19ANBe00A0010PfFxxx0': 'exist', '19ANBe00A0016PfFxxx0': 'exist', '19ANBe00A0017PfFxxx0': 'exist', '19ANBe00A0020PfFxxx0': 'exist', '19ANBe00A0026PfFxxx0': 'exist', '19ANBe00A0031PfFxxx0': 'exist', '19ANBe00A0042PfFxxx0': 'exist', '19ANBe00A0065PfFxxx0': 'exist', '19ANBe00A0066PfFxxx0': 'exist', '19ANBe00A0094PfFxxx0': 'exist', '19ANBe14A0066PfFxxx0': 'exist', '19ANBe21A0016PfFxxx0': 'exist', '19ANBe21A0017PfFxxx0': 'exist', '19ANBe21A0094PfFxxx0': 'exist', '19ANBe28A0009PfFxxx0': 'exist', '19ANBe28A0010PfFxxx0': 'exist', '19ANBe28A0020PfFxxx0': 'exist', '19ANBe28A0026PfFxxx0': 'exist', '19ANBe28A0031PfFxxx0': 'exist', '19ANBe28A0065PfFxxx0': 'exist', '19ANLS00A0000PfFxxx0': 'exist', '19ANLS00A0007PfFxxx0': 'exist', '19ANLS00A0013PfFxxx0': 'exist', '19ANLS00A0014PfFxxx0': 'exist', '19ANLS00A0016PfFxxx0': 'exist', '19ANLS00A0017PfFxxx0': 'exist', '19ANLS00A0033PfFxxx0': 'exist', '19ANLS00A0054PfFxxx0': 'exist', '19ANLS00A0062PfFxxx0': 'exist', '19ANLS00A0071PfFxxx0': 'exist', '19ANLS00A0073PfFxxx0': 'exist', '19ANLS00A0081PfFxxx0': 'exist', '19ANLS00A0089PfFxxx0': 'exist', '19ANLS00A0091PfFxxx0': 'exist', '19ANLS14A0016PfFxxx0': 'exist', '19ANLS14A0091PfFxxx0': 'exist', '19ANLS21A0000PfFxxx0': 'exist', '19ANLS21A0013PfFxxx0': 'exist', '19ANLS21A0014PfFxxx0': 'exist', '19ANLS21A0017PfFxxx0': 'exist', '19ANLS21A0033PfFxxx0': 'exist', '19ANLS21A0054PfFxxx0': 'exist', '19ANLS21A0071PfFxxx0': 'exist', '19ANLS21A0073PfFxxx0': 'exist', '19ANLS21A0081PfFxxx0': 'exist', '19ANLS28A0007PfFxxx0': 'exist', '19ANZa00A0201PfFxxx0': 'exist', '19ANZa00A0203PfFxxx0': 'exist', '19ANZa00A0204PfFxxx0': 'exist', '19ANZa00A0208PfFxxx0': 'exist', '19ANZa00A0209PfFxxx0': 'exist', '19ANZa00A0218PfFxxx0': 'exist', '19ANZa00A0231PfFxxx0': 'exist', '19ANZa00A0235PfFxxx0': 'exist', '19ANZa00A0236PfFxxx0': 'exist', '19ANZa00A0244PfFxxx0': 'exist', '19ANZa00A0246PfFxxx0': 'exist', '19ANZa00A0251PfFxxx0': 'exist', '19ANZa00A0260PfFxxx0': 'exist', '19ANZa00A0262PfFxxx0': 'exist', '19ANZa00A0274PfFxxx0': 'exist', '19ANZa00A0293PfFxxx0': 'exist', '19ANZa00A0294PfFxxx0': 'exist', '19ANZa00F0017PfFxxx0': 'exist', '19ANZa00F0028PfFxxx0': 'exist', '19ANZa00F0031PfFxxx0': 'exist', '19ANZa00F0039PfFxxx0': 'exist', '19ANZa00F0043PfFxxx0': 'exist', '19ANZa00F0047PfFxxx0': 'exist', '19ANZa00F0063PfFxxx0': 'exist', '19ANZa00F0066PfFxxx0': 'exist', '19ANZa00F0072PfFxxx0': 'exist', '19ANZa00F0075PfFxxx0': 'exist', '19ANZa00F0081PfFxxx0': 'exist', '19ANZa00F0092PfFxxx0': 'exist', '19ANZa00F0098PfFxxx0': 'exist', '19ANZa00F0100PfFxxx0': 'exist', '19ANZa14A0203PfFxxx0': 'exist', '19ANZa14A0236PfFxxx0': 'exist', '19ANZa14F0039PfFxxx0': 'exist', '19ANZa21A0201PfFxxx0': 'exist', '19ANZa21A0204PfFxxx0': 'exist', '19ANZa21A0209PfFxxx0': 'exist', '19ANZa21A0244PfFxxx0': 'exist', '19ANZa21A0246PfFxxx0': 'exist', '19ANZa21A0260PfFxxx0': 'exist', '19ANZa21A0274PfFxxx0': 'exist', '19ANZa21F0028PfFxxx0': 'exist', '19ANZa21F0066PfFxxx0': 'exist', '19ANZa21F0075PfFxxx0': 'exist', '19ANZa21F0081PfFxxx0': 'exist', '19ANZa21F0098PfFxxx0': 'exist', '19ANZa26F0100PfFxxx0': 'exist', '19ANZa28A0218PfFxxx0': 'exist', '19ANZa28A0231PfFxxx0': 'exist', '19ANZa28A0235PfFxxx0': 'exist', '19ANZa28A0262PfFxxx0': 'exist', '19ANZa28A0294PfFxxx0': 'exist', '19ANZa28F0017PfFxxx0': 'exist', '19ANZa28F0043PfFxxx0': 'exist', '19ANZa28F0047PfFxxx0': 'exist', '19ANZa28F0072PfFxxx0': 'exist', '19ANZa28F0092PfFxxx0': 'exist', '19ANZa29A0293PfFxxx0': 'exist', '19ANZa1F0063PfFxxx0': 'exist', '19ANLS14A0062PfFxxx0': 'exist', '19ANZa28A0251PfFxxx0': 'exist', '19ANLS14A0089PfFxxx0': 'exist'}\n"
     ]
    }
   ],
   "source": [
    "with open (\"AN19_individual_EPI.csv\", \"r\") as t1:\n",
    "    #dict_SNPs={} ###Calculate major, minor, and wildtypes by going through each line\n",
    "    dict_Samples={} ##dictionary for all the samples\n",
    "    dict_Genes={}\n",
    "    for lines in t1: ##Add number of major, minor, \n",
    "        #print(lines)\n",
    "        dict_Samples[lines.split(\",\")[0]]=\"exist\"\n",
    "        dict_Genes[lines.split(\",\")[0],lines.split(\",\")[3],lines.split(\",\")[6],lines.split(\",\")[11]]#,lines.split(\",\")[3],lines.split(\",\")[6],lines.split(\",\")[11])\n",
    "\n",
    "print(dict_Samples)\n"
   ]
  },
  {
   "cell_type": "code",
   "execution_count": null,
   "id": "cc833220-ad8d-44cd-bccf-d9fd8801f491",
   "metadata": {},
   "outputs": [],
   "source": []
  }
 ],
 "metadata": {
  "kernelspec": {
   "display_name": "Python 3 (ipykernel)",
   "language": "python",
   "name": "python3"
  },
  "language_info": {
   "codemirror_mode": {
    "name": "ipython",
    "version": 3
   },
   "file_extension": ".py",
   "mimetype": "text/x-python",
   "name": "python",
   "nbconvert_exporter": "python",
   "pygments_lexer": "ipython3",
   "version": "3.8.10"
  }
 },
 "nbformat": 4,
 "nbformat_minor": 5
}
