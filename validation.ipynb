{
 "cells": [
  {
   "cell_type": "code",
   "execution_count": 6,
   "id": "27dcffa9-b436-453c-a6c1-05626cf4a75a",
   "metadata": {},
   "outputs": [
    {
     "name": "stdout",
     "output_type": "stream",
     "text": [
      "{'19ANBe': 'exist', '19ANLS': 'exist', '19ANZa': 'exist'}\n",
      "Number of pools 19ANBe 22\n",
      "sum of pools 19ANBe 182.0\n",
      "Number of pools 19ANLS 21\n",
      "sum of pools 19ANLS 164.0\n",
      "Number of pools 19ANZa 22\n",
      "sum of pools 19ANZa 166.0\n",
      "individual samples 19ANBe 21\n",
      "individual samples 19ANLS 28\n",
      "individual samples 19ANZa 60\n"
     ]
    }
   ],
   "source": [
    "dicttest={}\n",
    "dicttestind={}\n",
    "\n",
    "dictcat={}\n",
    "with open(\"test2.csv\", \"r\") as r1:\n",
    "    for lines in r1:\n",
    "        if lines[0:2].isdigit() and \"xx\" not in lines.split(\",\")[0]:\n",
    "            dictcat[lines[0:6]]=\"exist\"\n",
    "with open(\"test.csv\", \"r\") as r2:\n",
    "    for lines in r2:\n",
    "        if lines[0:2].isdigit() and \"xx\" not in lines.split(\",\")[0]:\n",
    "            dictcat[lines[0:6]]=\"exist\"\n",
    "\n",
    "print(dictcat)\n",
    "\n",
    "for items in dictcat:\n",
    "    #print(items)\n",
    "    dicttest={}\n",
    "    with open(\"test2.csv\", \"r\") as r1:\n",
    "        for lines in r1:\n",
    "            #print(lines)\n",
    "            if items in lines:\n",
    "                #print(items)\n",
    "                if \"pooled\" in lines:\n",
    "                    #print(lines.split(\",\")[0])\n",
    "                    #print(lines.split(\",\")[12])\n",
    "                    dicttest[lines.split(\",\")[0]]=lines.split(\",\")[13]\n",
    "        sumpooled=0\n",
    "        countpooled=0\n",
    "        #print(dicttest)\n",
    "        for item in dicttest:\n",
    "            #print(dicttest[item])\n",
    "            #print(item)\n",
    "            #print(float(dicttest[item]))\n",
    "            countpooled+=1\n",
    "            sumpooled+=float(dicttest[item])\n",
    "        print(\"Number of pools\", items, countpooled)\n",
    "        print(\"sum of pools\", items, sumpooled)\n",
    "#print(dicttestind)\n",
    "for items in dictcat:\n",
    "    dicttestind={}\n",
    "    with open(\"test.csv\", \"r\") as r2:\n",
    "        for lines in r2:\n",
    "            if items in lines:\n",
    "                if \"individual\" in lines:    \n",
    "                    #print(lines)\n",
    "                    #print(lines.split(\",\")[0])\n",
    "                    #print(lines.split(\",\")[0])\n",
    "                    #print(lines.split(\",\")[0])\n",
    "                    #print(\"19GNDo00A0134PfF1290\" in lines)\n",
    "                    #print(lines.split(\",\")[0])\n",
    "                    dicttestind[lines.split(\"_\")[0]]=\"exist\"\n",
    "        countindividual=0\n",
    "        for item in dicttestind:\n",
    "            #print(item)\n",
    "            countindividual+=1\n",
    "        print(\"individual samples\", items, countindividual)"
   ]
  },
  {
   "cell_type": "code",
   "execution_count": null,
   "id": "96d7cdeb-fafe-442c-a4dc-09403e1e4643",
   "metadata": {},
   "outputs": [],
   "source": []
  }
 ],
 "metadata": {
  "kernelspec": {
   "display_name": "Python 3 (ipykernel)",
   "language": "python",
   "name": "python3"
  },
  "language_info": {
   "codemirror_mode": {
    "name": "ipython",
    "version": 3
   },
   "file_extension": ".py",
   "mimetype": "text/x-python",
   "name": "python",
   "nbconvert_exporter": "python",
   "pygments_lexer": "ipython3",
   "version": "3.8.10"
  }
 },
 "nbformat": 4,
 "nbformat_minor": 5
}
