{
 "cells": [
  {
   "cell_type": "code",
   "execution_count": 10,
   "id": "ccad7d4f-cac4-44a7-a4e0-b68ca420e5f1",
   "metadata": {},
   "outputs": [
    {
     "name": "stdout",
     "output_type": "stream",
     "text": [
      "19xxxxxxx166BPfBxxx0\n"
     ]
    }
   ],
   "source": [
    "from os import listdir\n",
    "from os.path import isfile, join\n",
    "\n",
    "dict_count_name={} ##Dictionary for counting how many pair reads are\n",
    "\n",
    "for f in listdir(\"Angola\"): \n",
    "    if isfile(join(\"Angola\", f)):\n",
    "        if f.startswith(\"._\") is False:\n",
    "            if f.split(\"_\")[0] not in dict_count_name:\n",
    "                dict_count_name[f.split(\"_\")[0]]=1\n",
    "            else:\n",
    "                dict_count_name[f.split(\"_\")[0]]=dict_count_name[f.split(\"_\")[0]]+1\n",
    "for items in dict_count_name:\n",
    "    if dict_count_name[items]!=2:\n",
    "        print(items)"
   ]
  },
  {
   "cell_type": "code",
   "execution_count": null,
   "id": "99bfe2b3-2bef-4f93-a54d-8eea241e984e",
   "metadata": {},
   "outputs": [],
   "source": []
  }
 ],
 "metadata": {
  "kernelspec": {
   "display_name": "Python 3 (ipykernel)",
   "language": "python",
   "name": "python3"
  },
  "language_info": {
   "codemirror_mode": {
    "name": "ipython",
    "version": 3
   },
   "file_extension": ".py",
   "mimetype": "text/x-python",
   "name": "python",
   "nbconvert_exporter": "python",
   "pygments_lexer": "ipython3",
   "version": "3.8.10"
  }
 },
 "nbformat": 4,
 "nbformat_minor": 5
}
