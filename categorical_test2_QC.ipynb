{
 "cells": [
  {
   "cell_type": "code",
   "execution_count": 13,
   "id": "28740545-b9bc-4f04-a37e-919e552a92f9",
   "metadata": {},
   "outputs": [
    {
     "name": "stdout",
     "output_type": "stream",
     "text": [
      "There were 0 samples that are over total individauls by site\n"
     ]
    }
   ],
   "source": [
    "import pandas as pd\n",
    "dictcat={}\n",
    "with open(\"AN19_individual_EPI.csv\", \"r\") as r2:\n",
    "    for lines in r2:\n",
    "        #print(lines)\n",
    "        if lines[0:2].isdigit(): #and \"xx\" not in lines.split(\",\")[0]:\n",
    "            dictcat[lines[0:6]]=\"exist\"\n",
    "\n",
    "dict_site={}\n",
    "for items in dictcat:\n",
    "    dicttestind={}\n",
    "    with open(\"AN19_individual_EPI.csv\", \"r\") as r2:\n",
    "        for lines in r2:\n",
    "            if items in lines:\n",
    "                dicttestind[lines.split(\",\")[0]]=\"exist\"\n",
    "        countindividual=0\n",
    "        for item in dicttestind:\n",
    "            #print(item)\n",
    "            countindividual+=1\n",
    "        #for item in dicttestindw:\n",
    "            #if item in dicttestindm:\n",
    "                #print(item)\n",
    "        dict_site[items]=countindividual\n",
    "        #print(\"individual total samples\", items, countindividual)\n",
    "    \n",
    "    \n",
    "with open (\"AN19_individual_EPI.csv\", \"r\") as t1:\n",
    "    #dict_SNPs={} ###Calculate major, minor, and wildtypes by going through each line\n",
    "    dict_Samples={} ##dictionary for all the samples\n",
    "    dict_Genes={}\n",
    "    count=0\n",
    "    for lines in t1: ##Add number of major, minor, \n",
    "        #print(lines)\n",
    "        count+=1\n",
    "        if count>1:\n",
    "            #dict_Samples[lines.split(\",\")[0]]=\"exist\"\n",
    "            #print(lines.split(\",\")[0],lines.split(\",\")[3],lines.split(\",\")[6],lines.split(\",\")[11].strip(\"\\n\"))\n",
    "            dict_Genes[lines.split(\",\")[0],lines.split(\",\")[3],lines.split(\",\")[6],lines.split(\",\")[11].strip(\"\\n\")]=\"exist\"#,lines.split(\",\")[3],lines.split(\",\")[6],lines.split(\",\")[11])\n",
    "\n",
    "#print(dict_Genes)\n",
    "\n",
    "dict_count={}\n",
    "for items2 in dict_Genes:\n",
    "    #print(items2[2] in dict_voi)\n",
    "        if (items2[1],items2[2]) in dict_count:    \n",
    "            dict_count[items2[1],items2[2]]=dict_count[items2[1],items2[2]]+1\n",
    "        if (items2[1],items2[2]) not in dict_count:\n",
    "            #print(items2)\n",
    "            dict_count[items2[1],items2[2]]=1\n",
    "\n",
    "dict_site_trans={}\n",
    "for items in dict_site:\n",
    "    if \"Be\" in items:\n",
    "        dict_site_trans[\"Benguela\"]=dict_site[items]\n",
    "    if \"LS\" in items:\n",
    "        dict_site_trans[\"Lunda Sul\"]=dict_site[items]\n",
    "    if \"Za\" in items:\n",
    "        dict_site_trans[\"Zaire\"]=dict_site[items]\n",
    "\n",
    "#print(dict_site_trans)   \n",
    "count=0\n",
    "for items in dict_count:\n",
    "    if dict_count[items]>dict_site_trans[items[0]]:\n",
    "        count+=1\n",
    "print(\"There were\", count,\"samples that are over total individauls by site\")\n",
    "    #print(items, dict_count[items])\n",
    "            \n",
    "df=pd.DataFrame.from_dict(dict_count, orient='index')\n",
    "df.to_csv(\"categorical_test1.csv\", sep='\\t')\n",
    "            \n",
    "        \n"
   ]
  },
  {
   "cell_type": "code",
   "execution_count": null,
   "id": "cc833220-ad8d-44cd-bccf-d9fd8801f491",
   "metadata": {},
   "outputs": [],
   "source": []
  }
 ],
 "metadata": {
  "kernelspec": {
   "display_name": "Python 3 (ipykernel)",
   "language": "python",
   "name": "python3"
  },
  "language_info": {
   "codemirror_mode": {
    "name": "ipython",
    "version": 3
   },
   "file_extension": ".py",
   "mimetype": "text/x-python",
   "name": "python",
   "nbconvert_exporter": "python",
   "pygments_lexer": "ipython3",
   "version": "3.8.10"
  }
 },
 "nbformat": 4,
 "nbformat_minor": 5
}
