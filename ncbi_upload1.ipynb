{
 "cells": [
  {
   "cell_type": "code",
   "execution_count": 58,
   "id": "119ae1f3-82d8-4f78-b19a-600765a9dc0f",
   "metadata": {},
   "outputs": [
    {
     "ename": "TypeError",
     "evalue": "'NoneType' object is not subscriptable",
     "output_type": "error",
     "traceback": [
      "\u001b[0;31m---------------------------------------------------------------------------\u001b[0m",
      "\u001b[0;31mTypeError\u001b[0m                                 Traceback (most recent call last)",
      "Input \u001b[0;32mIn [58]\u001b[0m, in \u001b[0;36m<module>\u001b[0;34m\u001b[0m\n\u001b[1;32m     17\u001b[0m \u001b[38;5;66;03m#rint(Guinea_master_df)\u001b[39;00m\n\u001b[1;32m     18\u001b[0m Guinea_master_df\u001b[38;5;241m=\u001b[39mGuinea_master_df\u001b[38;5;241m.\u001b[39msort_index(inplace\u001b[38;5;241m=\u001b[39m\u001b[38;5;28;01mTrue\u001b[39;00m)\n\u001b[1;32m     19\u001b[0m list_files[\u001b[38;5;124m'\u001b[39m\u001b[38;5;124mC\u001b[39m\u001b[38;5;124m'\u001b[39m] \u001b[38;5;241m=\u001b[39m np\u001b[38;5;241m.\u001b[39mwhere(\n\u001b[0;32m---> 20\u001b[0m     list_files[\u001b[38;5;124m'\u001b[39m\u001b[38;5;124mSample\u001b[39m\u001b[38;5;124m'\u001b[39m] \u001b[38;5;241m==\u001b[39m \u001b[43mGuinea_master_df\u001b[49m\u001b[43m[\u001b[49m\u001b[38;5;124;43m'\u001b[39;49m\u001b[38;5;124;43mAMD_ID\u001b[39;49m\u001b[38;5;124;43m'\u001b[39;49m\u001b[43m]\u001b[49m, Guinea_master_df[\u001b[38;5;124m'\u001b[39m\u001b[38;5;124mAMD_ID\u001b[39m\u001b[38;5;124m'\u001b[39m], np\u001b[38;5;241m.\u001b[39mnan)\n\u001b[1;32m     22\u001b[0m \u001b[38;5;66;03m#Guinea_df_merged = pd.merge(Guinea_df, Guinea_master_df, on='CSID')\u001b[39;00m\n\u001b[1;32m     24\u001b[0m \u001b[38;5;28mprint\u001b[39m(Guinea_df_merged)\n",
      "\u001b[0;31mTypeError\u001b[0m: 'NoneType' object is not subscriptable"
     ]
    }
   ],
   "source": [
    "import pandas as pd\n",
    "from os import listdir\n",
    "from os.path import isfile, join\n",
    "import numpy as np\n",
    "\n",
    "onlyfiles = [f for f in listdir(\"Guinea\") if isfile(join(\"Guinea\", f))]\n",
    "list_files = pd.DataFrame(onlyfiles)\n",
    "#print(list_files.columns.tolist())\n",
    "list_files=list_files.rename(columns={0: 'Sample'})\n",
    "#print(list_files)\n",
    "list_files.Sample= list_files.Sample.str.split(\"_\").str[0]\n",
    "#rint(list_files)\n",
    "\n",
    "Guinea_df = pd.read_excel (r'NMS results_for Guinea TES 2017-2019_Final 03-08-2021_Final Call.xlsx',  sheet_name='Recurrent samples')\n",
    "Guinea_master_df = pd.read_excel (r'Guinea Paired Masterfile.xlsx', sheet_name='MS to NGS Sample Naming ')\n",
    "\n",
    "#rint(Guinea_master_df)\n",
    "Guinea_master_df=Guinea_master_df.sort_index(inplace=True)\n",
    "list_files['C'] = np.where(\n",
    "    list_files['Sample'] == Guinea_master_df['AMD_ID'], Guinea_master_df['AMD_ID'], np.nan)\n",
    "\n",
    "#Guinea_df_merged = pd.merge(Guinea_df, Guinea_master_df, on='CSID')\n",
    "\n",
    "print(Guinea_df_merged)"
   ]
  },
  {
   "cell_type": "code",
   "execution_count": null,
   "id": "ec9bab04-bdca-432d-a2e1-749657e1efad",
   "metadata": {},
   "outputs": [],
   "source": []
  }
 ],
 "metadata": {
  "kernelspec": {
   "display_name": "Python 3 (ipykernel)",
   "language": "python",
   "name": "python3"
  },
  "language_info": {
   "codemirror_mode": {
    "name": "ipython",
    "version": 3
   },
   "file_extension": ".py",
   "mimetype": "text/x-python",
   "name": "python",
   "nbconvert_exporter": "python",
   "pygments_lexer": "ipython3",
   "version": "3.8.10"
  }
 },
 "nbformat": 4,
 "nbformat_minor": 5
}
