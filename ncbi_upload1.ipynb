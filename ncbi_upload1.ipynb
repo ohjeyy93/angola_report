{
 "cells": [
  {
   "cell_type": "code",
   "execution_count": 57,
   "id": "119ae1f3-82d8-4f78-b19a-600765a9dc0f",
   "metadata": {},
   "outputs": [],
   "source": [
    "import pandas as pd\n",
    "from os import listdir\n",
    "from os.path import isfile, join\n",
    "import numpy as np\n",
    "\n",
    "onlyfiles = [f for f in listdir(\"Guinea\") if isfile(join(\"Guinea\", f))]\n",
    "#print(onlyfiles)\n",
    "list_files = pd.DataFrame(onlyfiles)\n",
    "#print(list_files.columns.tolist())\n",
    "list_files=list_files.rename(columns={0: 'Sample'})\n",
    "#print(list_files)\n",
    "list_files.Sample= list_files.Sample.str.split(\"_\").str[0]\n",
    "list_files=list_files.drop_duplicates()\n",
    "#print(list_files)\n",
    "\n",
    "Guinea_df = pd.read_excel (r'NMS results_for Guinea TES 2017-2019_Final 03-08-2021_Final Call.xlsx',  sheet_name='Recurrent samples')\n",
    "Guinea_master_df = pd.read_excel (r'Guinea Paired Masterfile.xlsx', sheet_name='MS to NGS Sample Naming ')\n",
    "Guinea_master_df=Guinea_master_df.reset_index(drop=True)\n",
    "list_files=list_files.reset_index(drop=True)\n",
    "\n",
    "Guinea_master_df=Guinea_master_df.rename(columns={\"AMD_ID\": 'Sample'})\n",
    "#rint(Guinea_master_df)\n",
    "#Guinea_master_df=Guinea_master_df.sort_index(inplace=True)\n",
    "#print(list_files['Sample'])\n",
    "#print(Guinea_master_df['AMD_ID'])\n",
    "#list_files['C'] = np.where(list_files['Sample'] == Guinea_master_df['AMD_ID'], Guinea_master_df['AMD_ID'], np.nan)\n",
    "#print(Guinea_master_df)\n",
    "list_files=list_files.merge(Guinea_master_df, how='inner', on='Sample')\n",
    "list_files = list_files[['CSID', 'Sample']]\n",
    "list_files.to_csv('out.csv')\n",
    "#Guinea_df_merged = pd.merge(Guinea_df, Guinea_master_df, on='CSID')\n",
    "\n",
    "#print(Guinea_df_merged)"
   ]
  },
  {
   "cell_type": "code",
   "execution_count": null,
   "id": "ec9bab04-bdca-432d-a2e1-749657e1efad",
   "metadata": {},
   "outputs": [],
   "source": []
  },
  {
   "cell_type": "code",
   "execution_count": null,
   "id": "1d8c8481-098e-49ed-bc4d-614157f757f4",
   "metadata": {},
   "outputs": [],
   "source": []
  }
 ],
 "metadata": {
  "kernelspec": {
   "display_name": "Python 3",
   "language": "python",
   "name": "python3"
  },
  "language_info": {
   "codemirror_mode": {
    "name": "ipython",
    "version": 3
   },
   "file_extension": ".py",
   "mimetype": "text/x-python",
   "name": "python",
   "nbconvert_exporter": "python",
   "pygments_lexer": "ipython3",
   "version": "3.6.8"
  }
 },
 "nbformat": 4,
 "nbformat_minor": 5
}
